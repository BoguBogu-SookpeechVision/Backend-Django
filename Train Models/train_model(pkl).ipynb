{
 "cells": [
  {
   "cell_type": "code",
   "execution_count": null,
   "metadata": {
    "colab": {
     "base_uri": "https://localhost:8080/"
    },
    "executionInfo": {
     "elapsed": 288,
     "status": "ok",
     "timestamp": 1635314634900,
     "user": {
      "displayName": "배주영",
      "photoUrl": "https://lh3.googleusercontent.com/a/default-user=s64",
      "userId": "07360174946995068976"
     },
     "user_tz": -540
    },
    "id": "vifjluJqR_7p",
    "outputId": "03dc7218-3a6b-41e3-9d32-69ec94befdac"
   },
   "outputs": [
    {
     "name": "stdout",
     "output_type": "stream",
     "text": [
      "정확도: 0.8023255813953488\n"
     ]
    },
    {
     "name": "stderr",
     "output_type": "stream",
     "text": [
      "/usr/local/lib/python3.7/dist-packages/sklearn/utils/validation.py:760: DataConversionWarning: A column-vector y was passed when a 1d array was expected. Please change the shape of y to (n_samples, ), for example using ravel().\n",
      "  y = column_or_1d(y, warn=True)\n",
      "/usr/local/lib/python3.7/dist-packages/sklearn/linear_model/_logistic.py:940: ConvergenceWarning: lbfgs failed to converge (status=1):\n",
      "STOP: TOTAL NO. of ITERATIONS REACHED LIMIT.\n",
      "\n",
      "Increase the number of iterations (max_iter) or scale the data as shown in:\n",
      "    https://scikit-learn.org/stable/modules/preprocessing.html\n",
      "Please also refer to the documentation for alternative solver options:\n",
      "    https://scikit-learn.org/stable/modules/linear_model.html#logistic-regression\n",
      "  extra_warning_msg=_LOGISTIC_SOLVER_CONVERGENCE_MSG)\n"
     ]
    }
   ],
   "source": [
    "# scikitlearn logistic regression 사용해서 모델 학습시키기\n",
    "\n",
    "from sklearn.linear_model import LogisticRegression\n",
    "from sklearn.model_selection import train_test_split\n",
    "import pandas as pd\n",
    "from sklearn.metrics import accuracy_score\n",
    "\n",
    "\n",
    "# 좌표 거리 정리된 csv 불러오기\n",
    "data = pd.read_csv('path to input csv file')\n",
    "df = pd.DataFrame(data)\n",
    "\n",
    "# 각 좌표 간 거리 데이터는 X_data로, 입모양 결과 데이터는 y_data로 분리하기 \n",
    "X_data = df.iloc[:, :-1]\n",
    "y_data = df.iloc[:, 6:]\n",
    "\n",
    "# train, test 데이터 분리하기\n",
    "X_train, X_test, y_train, y_test = train_test_split(X_data, y_data, test_size = 0.3, random_state = 42)\n",
    "\n",
    "# LogisticRegression 분류기 세팅하고 데이터 학습시키기, 결과 예측하기\n",
    "clf = LogisticRegression(penalty='l2', C=0.5)\n",
    "clf.fit(X_train, y_train)\n",
    "y_pred = clf.predict(X_test)\n",
    "\n",
    "print(\"정확도:\", accuracy_score(y_test, y_pred))"
   ]
  },
  {
   "cell_type": "code",
   "execution_count": null,
   "metadata": {
    "id": "ttRionyySeti"
   },
   "outputs": [],
   "source": [
    "# 학습시킨 모델 pkl파일로 추출하기\n",
    "\n",
    "import joblib\n",
    "import pickle\n",
    "\n",
    "# 파일 추출\n",
    "file_name = 'model_name.pkl'\n",
    "joblib.dump(clf, file_name)\n",
    "saved_model = pickle.dumps(clf)"
   ]
  },
  {
   "cell_type": "code",
   "execution_count": null,
   "metadata": {
    "id": "4IbdJJwlWJRC"
   },
   "outputs": [],
   "source": []
  }
 ],
 "metadata": {
  "colab": {
   "authorship_tag": "ABX9TyOwsavbMZmlaOA+Bulamief",
   "name": "train_model.ipynb",
   "provenance": []
  },
  "kernelspec": {
   "display_name": "Python 3",
   "language": "python",
   "name": "python3"
  },
  "language_info": {
   "codemirror_mode": {
    "name": "ipython",
    "version": 3
   },
   "file_extension": ".py",
   "mimetype": "text/x-python",
   "name": "python",
   "nbconvert_exporter": "python",
   "pygments_lexer": "ipython3",
   "version": "3.8.5"
  }
 },
 "nbformat": 4,
 "nbformat_minor": 1
}
